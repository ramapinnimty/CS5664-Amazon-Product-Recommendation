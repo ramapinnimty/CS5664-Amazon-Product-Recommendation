{
 "cells": [
  {
   "cell_type": "markdown",
   "id": "61fcd8d4",
   "metadata": {},
   "source": [
    "This ipynb goal is to parse the amazon-meta.txt and generates products_copurchases_links.csv"
   ]
  },
  {
   "cell_type": "code",
   "execution_count": 68,
   "id": "cec4d2c3",
   "metadata": {},
   "outputs": [],
   "source": [
    "import os\n",
    "import numpy as np\n",
    "import pandas as pd\n",
    "import csv\n",
    "import re\n",
    "import sys"
   ]
  },
  {
   "cell_type": "code",
   "execution_count": 2,
   "id": "aa681fe4",
   "metadata": {},
   "outputs": [],
   "source": [
    "# meta_text_path = r\"C:\\Project_Files\\VT\\SecondSem\\SMA\\Project\\datasets\\amazon-meta.txt\\amazon-meta.txt\""
   ]
  },
  {
   "cell_type": "code",
   "execution_count": 72,
   "id": "7ec433ca",
   "metadata": {},
   "outputs": [],
   "source": [
    "meta_text_path = os.path.join(os.getcwd(), r\"..\\amazon-meta.txt\")"
   ]
  },
  {
   "cell_type": "code",
   "execution_count": 3,
   "id": "ebdc9a87",
   "metadata": {},
   "outputs": [],
   "source": [
    "meta_file = open(meta_text_path, \"r\", encoding=\"utf8\")\n",
    "meta_lines = meta_file.readlines()"
   ]
  },
  {
   "cell_type": "code",
   "execution_count": 4,
   "id": "0068745b",
   "metadata": {},
   "outputs": [],
   "source": [
    "meta_file.seek(0)\n",
    "meta_data = meta_file.read()"
   ]
  },
  {
   "cell_type": "code",
   "execution_count": 5,
   "id": "d9e9c5da",
   "metadata": {},
   "outputs": [],
   "source": [
    "all_ids = [(m.start(0), m.end(0)) for m in re.finditer(\"Id:   \\d+\", meta_data)]"
   ]
  },
  {
   "cell_type": "code",
   "execution_count": 6,
   "id": "85f2d9e2",
   "metadata": {},
   "outputs": [],
   "source": [
    "def get_id_number(line):\n",
    "    m = re.search(\"Id:   (\\d+)\", line)\n",
    "    if m:\n",
    "        return m.group(1)\n",
    "    else:\n",
    "        return '-1'"
   ]
  },
  {
   "cell_type": "code",
   "execution_count": 7,
   "id": "8e7c92dd",
   "metadata": {},
   "outputs": [],
   "source": [
    "def get_asin_number(line):\n",
    "    m = re.search(\"ASIN: (\\w+)\", line)\n",
    "    if m:\n",
    "        return m.group(1)\n",
    "    else:\n",
    "        return '-1'"
   ]
  },
  {
   "cell_type": "code",
   "execution_count": 71,
   "id": "ed015d20",
   "metadata": {},
   "outputs": [],
   "source": [
    "def get_title(id_content, start, end):\n",
    "    data = id_content[start: end].strip(\"\\n\")\n",
    "    m = re.search(\"title: ([A-Za-z0-9:\\s\\_\\-\\;\\,\\?\\!\\(\\)\\&]+)\", data)\n",
    "    if m:\n",
    "        title = m.group(1).replace(\",\", \" \")\n",
    "        return title\n",
    "    return '-1'"
   ]
  },
  {
   "cell_type": "code",
   "execution_count": 9,
   "id": "991aa0a7",
   "metadata": {},
   "outputs": [],
   "source": [
    "def get_group(id_content, start, end):\n",
    "    data = id_content[start: end].strip(\"\\n\")\n",
    "    m = re.search(\"group:\\s+(\\w+)\", data)\n",
    "    if m:\n",
    "        return m.group(1)\n",
    "    return '-1'"
   ]
  },
  {
   "cell_type": "code",
   "execution_count": 10,
   "id": "726c1ac6",
   "metadata": {},
   "outputs": [],
   "source": [
    "def get_salesrank(id_content, start, end):\n",
    "    data = id_content[start: end].strip(\"\\n\")\n",
    "    m = re.search(\"salesrank: (\\w+)\", data)\n",
    "    if m:\n",
    "        return m.group(1)\n",
    "    return '-1'"
   ]
  },
  {
   "cell_type": "code",
   "execution_count": 11,
   "id": "361dc89d",
   "metadata": {},
   "outputs": [],
   "source": [
    "def get_similar(id_content, start, end):\n",
    "    data = id_content[start: end].strip(\"\\n\")\n",
    "    sims = re.findall(\"(\\w+)\", data)\n",
    "    return sims[2:]"
   ]
  },
  {
   "cell_type": "code",
   "execution_count": 12,
   "id": "eee29918",
   "metadata": {},
   "outputs": [],
   "source": [
    "def get_categories(id_content, start, end):\n",
    "    data = id_content[start: end].strip(\"\\n\")\n",
    "    cats = re.findall(\"(\\w+)\", data)\n",
    "    num_cats = cats[1]\n",
    "    cats_set = set()\n",
    "    for cat in cats[2:]:\n",
    "        if cat.isalpha():\n",
    "            cats_set.add(cat)\n",
    "    return int(num_cats), list(cats_set)"
   ]
  },
  {
   "cell_type": "code",
   "execution_count": 27,
   "id": "278a516b",
   "metadata": {},
   "outputs": [],
   "source": [
    "def get_reviews(id_content, start, end, get_rating=True):\n",
    "    data = id_content[start: end].strip(\"\\n\")\n",
    "    revs = data.split(\"\\n\")\n",
    "    total, down, avg = re.search(\"reviews: total: (\\d+)  downloaded: (\\d+)  avg rating: ([0-9\\.]+)\", data).groups()\n",
    "    # print(total, down, avg)\n",
    "    usr_revs = []\n",
    "    for idx in range(1, len(revs)):\n",
    "        rev = revs[idx]\n",
    "        cnts = re.findall('(\\w+)', rev)\n",
    "        date = f\"{cnts[0]}-{cnts[1]}-{cnts[2]}\"\n",
    "        customer_id = cnts[4]\n",
    "        rating = cnts[6]\n",
    "        votes = cnts[8]\n",
    "        helpful = cnts[10]\n",
    "        usr_revs.append([date, customer_id, rating, votes, helpful, down, avg])\n",
    "    if get_rating == True:\n",
    "        return [len(usr_revs), down, avg]\n",
    "    return usr_revs    \n",
    "    # print(usr_revs)\n",
    "        \n",
    "    "
   ]
  },
  {
   "cell_type": "code",
   "execution_count": 25,
   "id": "1534fade",
   "metadata": {},
   "outputs": [],
   "source": [
    "def parse_id(id_content):\n",
    "    data = id_content.split(\"\\n\")\n",
    "    id_number = get_id_number(data[0])\n",
    "    asin_number = get_asin_number(data[1])\n",
    "    # check if product is discontinued\n",
    "    if \"discontinued product\" in data[2]:\n",
    "        return [False, id_number, asin_number]\n",
    "    else:\n",
    "        tags = [\"title\", \"group\", \"salesrank\", \"similar\", \"categories\", \"reviews\"]\n",
    "        index = 2\n",
    "        try:\n",
    "            title_index = re.search(\"title: \", id_content).start()\n",
    "            group_index = re.search(\"group: \", id_content).start()\n",
    "            srank_index = re.search(\"salesrank: \", id_content).start()\n",
    "            simil_index = re.search(\"similar: \", id_content).start()\n",
    "            categ_index = re.search(\"categories: \", id_content).start()\n",
    "            revie_index = re.search(\"reviews: \", id_content).start()\n",
    "        except Exception as e:\n",
    "            print(f\"Issue with Id: {id_number}, error: {e}\")\n",
    "            return [False, id_number, asin_number]\n",
    "        \n",
    "        title = get_title(id_content, title_index, group_index)\n",
    "        group = get_group(id_content, group_index, srank_index)\n",
    "        salesrank = get_salesrank(id_content, srank_index, simil_index)\n",
    "        similar = get_similar(id_content, simil_index, categ_index)\n",
    "        categories = get_categories(id_content, categ_index, revie_index)\n",
    "        reviews = get_reviews(id_content, revie_index, len(id_content), get_rating=True)\n",
    "        \n",
    "        # print(title_index, group_index, srank_index, simil_index, categ_index, revie_index)\n",
    "        return [True, id_number, asin_number, title, group, salesrank, similar, categories, reviews]\n",
    "            "
   ]
  },
  {
   "cell_type": "code",
   "execution_count": 21,
   "id": "d43d6469",
   "metadata": {},
   "outputs": [],
   "source": [
    "last_idx = len(all_ids)"
   ]
  },
  {
   "cell_type": "code",
   "execution_count": 70,
   "id": "0cd901c8",
   "metadata": {},
   "outputs": [
    {
     "name": "stdout",
     "output_type": "stream",
     "text": [
      "0 1000 2000 3000 4000 5000 6000 7000 8000 9000 10000 11000 12000 13000 14000 15000 16000 17000 18000 19000 20000 21000 22000 23000 24000 25000 26000 27000 28000 29000 30000 31000 32000 33000 34000 35000 36000 37000 38000 39000 40000 41000 42000 43000 44000 45000 46000 47000 48000 49000 50000 51000 52000 53000 54000 55000 56000 57000 58000 59000 60000 61000 62000 63000 64000 65000 66000 67000 68000 69000 70000 71000 72000 73000 74000 75000 76000 77000 78000 79000 80000 81000 82000 83000 84000 85000 86000 87000 88000 89000 90000 91000 92000 93000 94000 95000 96000 97000 98000 99000 100000 101000 102000 103000 104000 105000 106000 107000 108000 109000 110000 111000 112000 113000 114000 115000 116000 117000 118000 119000 120000 121000 122000 123000 124000 125000 126000 127000 128000 129000 130000 131000 132000 133000 134000 135000 136000 137000 138000 139000 140000 141000 142000 143000 144000 145000 146000 147000 148000 149000 150000 151000 152000 153000 154000 155000 156000 157000 158000 159000 160000 161000 162000 163000 164000 165000 166000 167000 168000 169000 170000 171000 172000 173000 174000 175000 176000 177000 178000 179000 180000 181000 182000 183000 184000 185000 186000 187000 188000 189000 190000 191000 192000 193000 194000 195000 196000 197000 198000 199000 200000 201000 202000 203000 204000 205000 206000 207000 208000 209000 210000 211000 212000 213000 214000 215000 216000 217000 218000 219000 220000 221000 222000 223000 224000 225000 226000 227000 228000 229000 230000 231000 232000 233000 234000 235000 236000 237000 238000 239000 240000 241000 242000 243000 244000 245000 246000 247000 248000 249000 250000 251000 252000 253000 254000 255000 256000 257000 258000 259000 260000 261000 262000 263000 264000 265000 266000 267000 268000 269000 270000 271000 272000 273000 274000 275000 276000 277000 278000 279000 280000 281000 282000 283000 284000 285000 286000 287000 288000 289000 290000 291000 292000 293000 294000 295000 296000 297000 298000 299000 300000 301000 302000 303000 304000 305000 306000 307000 308000 309000 310000 311000 312000 313000 314000 315000 316000 317000 318000 319000 320000 321000 322000 323000 324000 325000 326000 327000 328000 329000 330000 331000 332000 333000 334000 335000 336000 337000 338000 339000 340000 341000 342000 343000 344000 345000 346000 347000 348000 349000 350000 351000 352000 353000 354000 355000 356000 357000 358000 359000 360000 361000 362000 363000 364000 365000 366000 367000 368000 369000 370000 371000 372000 373000 374000 375000 376000 377000 378000 379000 380000 381000 382000 383000 384000 385000 386000 387000 388000 389000 390000 391000 392000 393000 394000 395000 396000 397000 'charmap' codec can't encode character '\\x85' in position 71: character maps to <undefined>\n",
      "398000 399000 400000 401000 402000 403000 404000 405000 406000 407000 408000 409000 410000 411000 412000 413000 414000 415000 416000 417000 418000 419000 420000 421000 422000 423000 424000 425000 426000 427000 428000 429000 430000 431000 432000 433000 434000 435000 436000 437000 438000 439000 440000 441000 442000 443000 444000 445000 446000 447000 448000 449000 450000 451000 452000 453000 454000 455000 456000 457000 458000 459000 460000 461000 462000 463000 464000 465000 466000 467000 468000 469000 470000 471000 472000 473000 474000 475000 476000 477000 478000 479000 480000 481000 482000 483000 484000 485000 486000 487000 488000 489000 490000 491000 492000 493000 494000 495000 496000 497000 498000 499000 500000 501000 502000 503000 504000 505000 506000 507000 508000 509000 510000 511000 512000 513000 514000 515000 516000 517000 518000 519000 520000 521000 522000 523000 524000 525000 526000 527000 528000 529000 530000 531000 532000 533000 534000 535000 536000 537000 538000 539000 540000 541000 542000 543000 544000 545000 546000 547000 548000 "
     ]
    }
   ],
   "source": [
    "# print(\"id,title,group,salesrank,review_cnt,downloads,rating\")\n",
    "from collections import defaultdict\n",
    "\n",
    "product_copurchase_adj_list = defaultdict(list)\n",
    "id_asin_map = defaultdict(str)\n",
    "\n",
    "with open(\"products_data.csv\", \"w\") as outfile:\n",
    "    outfile.write(\"id,asin,title,group,salesrank,review_cnt,downloads,rating\\n\")\n",
    "    for id_idx in range(len(all_ids)-1):\n",
    "        if id_idx != last_idx:\n",
    "            id_text = meta_data[all_ids[id_idx][0]: all_ids[id_idx+1][0]]\n",
    "        else:\n",
    "            id_text = meta_data[all_ids[id_idx][0]: ]\n",
    "            \n",
    "        if id_idx % 1000 == 0:\n",
    "            print(id_idx, end=\" \")\n",
    "\n",
    "        try:\n",
    "            s2d = parse_id(id_text)\n",
    "            id_asin_map[s2d[1]] = s2d[2]\n",
    "            \n",
    "            if s2d[0] == True:\n",
    "                s2d[3] = s2d[3].strip()\n",
    "                # print(f\"{s2d[1]},{s2d[3]},{s2d[4]},{s2d[5]},{s2d[8][0]},{s2d[8][1]},{s2d[8][2]}\")\n",
    "                outfile.write(f\"{s2d[1]},{s2d[2]},{s2d[3]},{s2d[4]},{s2d[5]},{s2d[8][0]},{s2d[8][1]},{s2d[8][2]}\\n\")\n",
    "                for similar_prod in s2d[6]:\n",
    "                    product_copurchase_adj_list[s2d[2]].append(similar_prod)\n",
    "        except Exception as e:\n",
    "            print(e)\n",
    "\n",
    "    # for _ in product_copurchase_adj_list:\n",
    "    #     print(_, product_copurchase_adj_list[_])\n",
    "        \n",
    "    # for _ in id_asin_map:\n",
    "    #     print(_, id_asin_map[_])"
   ]
  },
  {
   "cell_type": "code",
   "execution_count": 61,
   "id": "12be31d0",
   "metadata": {},
   "outputs": [],
   "source": [
    "asin_id_map = {v: k for k, v in id_asin_map.items()}"
   ]
  },
  {
   "cell_type": "code",
   "execution_count": 65,
   "id": "1574ffd9",
   "metadata": {},
   "outputs": [
    {
     "name": "stdout",
     "output_type": "stream",
     "text": [
      "0\n",
      "Done\n"
     ]
    }
   ],
   "source": [
    "with open(\"products_copurchases_links.csv\", \"w\") as outfile:\n",
    "    outfile.write(\"source,destination\\n\")\n",
    "    err = 0\n",
    "    \n",
    "    for src, neighbors in product_copurchase_adj_list.items():\n",
    "        try:\n",
    "            src_id = asin_id_map[src]\n",
    "            for neigh in neighbors:\n",
    "                if neigh in asin_id_map:\n",
    "                    neigh_id = asin_id_map[neigh]\n",
    "                    outfile.write(f\"{src_id},{neigh_id}\\n\")\n",
    "        except:\n",
    "            err += 1\n",
    "            \n",
    "print(err)\n",
    "print(\"Done\")"
   ]
  },
  {
   "cell_type": "code",
   "execution_count": 67,
   "id": "f3218304",
   "metadata": {},
   "outputs": [
    {
     "data": {
      "text/plain": [
       "'B00000ADJO'"
      ]
     },
     "execution_count": 67,
     "metadata": {},
     "output_type": "execute_result"
    }
   ],
   "source": [
    "id_asin_map['335158']"
   ]
  }
 ],
 "metadata": {
  "kernelspec": {
   "display_name": "Python 3 (ipykernel)",
   "language": "python",
   "name": "python3"
  },
  "language_info": {
   "codemirror_mode": {
    "name": "ipython",
    "version": 3
   },
   "file_extension": ".py",
   "mimetype": "text/x-python",
   "name": "python",
   "nbconvert_exporter": "python",
   "pygments_lexer": "ipython3",
   "version": "3.9.7"
  }
 },
 "nbformat": 4,
 "nbformat_minor": 5
}
